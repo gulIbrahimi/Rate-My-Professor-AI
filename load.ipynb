{
 "cells": [
  {
   "cell_type": "code",
   "execution_count": null,
   "metadata": {},
   "outputs": [],
   "source": [
    "from dotenv import load.dotenv\n",
    "load.dotenv()\n",
    "\n",
    "import os\n",
    "import openai\n",
    "from pinecone import Pinecone, ServerlessSpec\n",
    "\n"
   ]
  },
  {
   "cell_type": "code",
   "execution_count": null,
   "metadata": {},
   "outputs": [],
   "source": [
    "# Initialize Pinecone\n",
    "pc = Pinecone(api_key=os.getenv(\"PINECON_API_KEY\"))\n",
    "\n",
    "# Delete the exisiting index if it exists\n",
    "pc.create_index(\"rag\")\n",
    "\n",
    "# Create a new Pinecone index with dimension 512\n",
    "pc.create_index(\n",
    "    name = \"rag\",\n",
    "    dimension = 512,#Set the dimension to match your embeddings\n",
    "    metric = \"cosine\",\n",
    "    spec = ServerlessSpec(cloud=\"aws\", region=\"us-east-1\"),\n",
    ")\n"
   ]
  },
  {
   "cell_type": "code",
   "execution_count": null,
   "metadata": {},
   "outputs": [],
   "source": [
    "import json\n",
    "#load the review data\n",
    "data = json.load(open(\"review.json\"))\n",
    "\n",
    "data['reviews']"
   ]
  },
  {
   "cell_type": "code",
   "execution_count": null,
   "metadata": {},
   "outputs": [],
   "source": []
  },
  {
   "cell_type": "code",
   "execution_count": null,
   "metadata": {},
   "outputs": [],
   "source": [
    "# Fetch the API key from the environment variables\n",
    "GOOGLE_API_KEY = os.getenv(\"GOOGLE_API_KEY\")\n",
    "\n",
    "# Check if the key was loaded correctly\n",
    "if not GOOGLE_API_KEY:\n",
    "    raise ValueError(\"API key not found\")\n",
    "\n",
    "# Define the API endpoint URL\n",
    "embedding_api_url = f\"https://generativelanguage.googleapis.com/v1beta/models/gemini-1.5-flash-latest:generateContent?key={GOOGLE_API_KEY}\"\n",
    "\n",
    "# Initialize an empty list to hold the processed data\n",
    "processed_data = []\n",
    "\n",
    "# Create content for each review\n",
    "for review in data[\"reviews\"]:\n",
    "    response = requests.post(\n",
    "        embedding_api_url,\n",
    "        json={\n",
    "            \"contents\": [\n",
    "                {\n",
    "                    \"parts\": [\n",
    "                        {\"text\": review['review']}  # Pass the review text here\n",
    "                    ]\n",
    "                }\n",
    "            ]\n",
    "        }\n",
    "    )\n",
    "\n",
    "    if response.status_code == 200:\n",
    "        #Extract the generated content from the response\n",
    "        candidates = response.jsons().get('candidates', [])\n",
    "        if candidates:\n",
    "            content_parts = candidates(o).get('content', {}).get('parts', [])\n",
    "            if content_parts:\n",
    "                generated_content = content_parts[0].get('text', '')\n",
    "                processed_data.append(\n",
    "                    {\n",
    "                        \"values\": generated_content,\n",
    "                        \"id\": review['professor'],\n",
    "                        \"metadata\": {\n",
    "                            \"course\": review['course'],\n",
    "                            \"professor\": review['professor'],\n",
    "                            \"rating\": review['rating'],\n",
    "                            \"review\": review['review']\n",
    "                        }\n",
    "                    }\n",
    "                )\n",
    "            else:\n",
    "                print(f\"Error {response.status_code}: {response.text}\")\n",
    "        # Now you have the processed data with the generated content for each review."
   ]
  },
  {
   "cell_type": "code",
   "execution_count": null,
   "metadata": {},
   "outputs": [],
   "source": [
    "processed_data[0]"
   ]
  },
  {
   "cell_type": "code",
   "execution_count": null,
   "metadata": {},
   "outputs": [],
   "source": [
    "def convert_to_embedding(text):\n",
    "    #Replace this with your actual embedding logic.\n",
    "    # For example, if you are generating embeddings from a model,\n",
    "    # use the model's output here.\n",
    "    return [0,1] * 512\n",
    "\n",
    "valid_vectors = []\n",
    "for item in processed_data:\n",
    "    embedding = convert_to_embedding(item['values'])\n",
    "\n",
    "    #Ensure the embedding is not a zero vector\n",
    "    if any(embedding):\n",
    "        item[\"values\"] = embedding\n",
    "        valid_vectors.append(item)\n",
    "\n",
    "index = pc.index(\"rag\")\n",
    "upsert_response = index.upsert(\n",
    "    vectors = valid_vectors,\n",
    "    namespace = \"ns1\",\n",
    ")\n",
    "print (f\"Upserted count: {upsert_response['upserted_count']}\")\n",
    "\n",
    "print(index.describe_index_stats())\n"
   ]
  }
 ],
 "metadata": {
  "language_info": {
   "name": "python"
  }
 },
 "nbformat": 4,
 "nbformat_minor": 2
}
